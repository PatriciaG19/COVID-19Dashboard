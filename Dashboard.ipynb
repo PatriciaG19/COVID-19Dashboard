{
 "cells": [
  {
   "cell_type": "markdown",
   "metadata": {},
   "source": [
    "# DIY Covid-19 Dashboard"
   ]
  },
  {
   "cell_type": "markdown",
   "metadata": {},
   "source": [
    "The following dashboard aims to successfully implement the following functionalities:\n",
    "\n",
    "\n",
    "1. Acquire pandemic data from the Public Health England API through the Software Development Kit\n",
    "2.  Visualisation and wrangling of data in the form of at least one graph\n",
    "3.  Enable a user to trigger the API access by clicking on a button, and providing at least a functional interactive control (in the form of a widget) for one of the graphs\n"
   ]
  },
  {
   "cell_type": "code",
   "execution_count": 36,
   "metadata": {},
   "outputs": [],
   "source": [
    "import ipywidgets as wdg\n",
    "import pandas as pd\n",
    "import numpy as np\n",
    "import matplotlib.pyplot as plt\n",
    "import json\n",
    "from uk_covid19 import Cov19API"
   ]
  },
  {
   "cell_type": "code",
   "execution_count": 37,
   "metadata": {},
   "outputs": [],
   "source": [
    "%matplotlib inline\n",
    "# make figures larger\n",
    "plt.rcParams['figure.dpi'] = 100"
   ]
  },
  {
   "cell_type": "code",
   "execution_count": 38,
   "metadata": {},
   "outputs": [],
   "source": [
    "data = {}\n",
    "with open(\"agedistribution.json\", \"rt\") as INFILE:\n",
    "    data=json.load(INFILE)"
   ]
  },
  {
   "cell_type": "markdown",
   "metadata": {},
   "source": [
    "## Part 1 and 2: Aquiring Data and Visualisation\n",
    "\n",
    "The following dashboard represents the number of COVID-19 cases for males and females based on their age range. \n",
    "The first step was to access data through the Public Health England through a web-based Application Programming Interface (API). This often involves the excange of information in JSON format. \n",
    "Public Health Englanda offers a Python Software Devekopment Kit (SDK). This is a Python wrapper that facilitates access to the API by building requests. "
   ]
  },
  {
   "cell_type": "markdown",
   "metadata": {},
   "source": [
    "## Wrangle the data\n",
    "\n",
    "The dashboard should contain the logic to wrangle the raw data into a ```DataFrame``` (or more than one, as required) that will be used for plotting. The wrangling code should be put into a function and called on the data from the JSON file (we'll need to call it again on any data downloaded from the API).  In this template, we just pretend we are wrangling ```rawdata``` and generate a dataframe with some random data"
   ]
  },
  {
   "cell_type": "code",
   "execution_count": 39,
   "metadata": {},
   "outputs": [],
   "source": [
    "def wrangle_data(rawdata):\n",
    "    \n",
    "    datadic=rawdata['data'][0]\n",
    "\n",
    "    males=datadic['males']\n",
    "    females=datadic['females']\n",
    "\n",
    "    ageranges=[x['age'] for x in males] \n",
    "\n",
    "    def min_age(agerange):\n",
    "        agerange=agerange.replace('+','') \n",
    "        start=agerange.split('_')[0]\n",
    "        return int(start)\n",
    "\n",
    "    ageranges.sort(key=min_age)\n",
    "    age_df=pd.DataFrame(index=ageranges, columns=['males','females', 'total'])\n",
    "\n",
    "    for entry in males: \n",
    "        ageband=entry['age'] \n",
    "        age_df.loc[ageband, 'males']=entry['value']\n",
    "\n",
    "    for entry in females:\n",
    "        ageband=entry['age']\n",
    "        age_df.loc[ageband, 'females']=entry['value']\n",
    "\n",
    "    age_df['total']=age_df['males']+age_df['females']\n",
    "\n",
    "    return age_df\n",
    "\n",
    "age_df=wrangle_data(data)"
   ]
  },
  {
   "cell_type": "markdown",
   "metadata": {},
   "source": [
    "## Download current data"
   ]
  },
  {
   "cell_type": "markdown",
   "metadata": {},
   "source": [
    "Give your users an option to refresh the dataset - a \"refresh\" button will do. The button callback should\n",
    "* call the code that accesses the API and download some fresh raw data;\n",
    "* wrangle that data into a dataframe and update the corresponding (global) variable for plotting;\n",
    "* optionally: force a redraw of the graph and give the user some fredback.\n",
    "\n",
    "Once you get it to work, you may want to wrap your API call inside an exception handler, so that the user is informed, the \"canned\" data are not overwritten and nothing crashes if for any reason the server cannot be reached or data are not available.\n",
    "\n",
    "After you refresh the data, graphs will not update until the user interacts with a widget. You can trick ```iPywidgets``` into redrawing the graph by simulating interaction, as in the ```refresh_graph``` function we define in the Graph and Analysis section below.\n",
    "\n",
    "Clicking on the button below just generates some more random data and refreshes the graph. The button should read *Fetch Data*. If you see anything else, take a deep breath :)"
   ]
  },
  {
   "cell_type": "code",
   "execution_count": 40,
   "metadata": {},
   "outputs": [],
   "source": [
    "  \n",
    "def access_api():\n",
    "    filters = [\n",
    "    'areaType=nation',\n",
    "    'areaName=England'\n",
    "    ]\n",
    "\n",
    "    structure = {\n",
    "    \"males\": \"maleCases\",\n",
    "    \"females\": \"femaleCases\"\n",
    "    }\n",
    "    api = Cov19API(filters=filters, structure=structure)\n",
    "    agedistribution=api.get_json()\n",
    "    return agedistribution\n",
    "\n",
    "\n",
    "\n",
    "\n",
    "def api_button_callback(button):\n",
    "    apidata=access_api()\n",
    "    global age_df\n",
    "    age_df=wrangle_data(apidata)\n",
    "    refresh_graph()\n",
    "    apibutton.icon=\"check\"\n",
    "\n",
    "    \n",
    "apibutton=wdg.Button(\n",
    "    description='Refresh data', \n",
    "    disabled=False,\n",
    "    button_style='', \n",
    "    tooltip=\"'Click to download current Public Health England data'\",\n",
    "    icon='download'\n",
    ")\n",
    "    \n",
    "\n"
   ]
  },
  {
   "cell_type": "markdown",
   "metadata": {},
   "source": [
    "AGE DISTRIBUTION GRAPH"
   ]
  },
  {
   "cell_type": "markdown",
   "metadata": {},
   "source": [
    "This interactive graph represents the number of COVID-19 cases in England for males and females by dividing the data based on their age range. By adding an interactive control provided by iPywidgets, allows to select any combination of the males, females or total columns.\n",
    "\n",
    "\n",
    "Include at least one graph with interactive controls, as well as some instructions for the user and/or comments on what the graph represents and how it should be explored (this example shows two random walks)"
   ]
  },
  {
   "cell_type": "code",
   "execution_count": 41,
   "metadata": {},
   "outputs": [
    {
     "data": {
      "application/vnd.jupyter.widget-view+json": {
       "model_id": "2d3b1ba951544fed93e3c103721263cc",
       "version_major": 2,
       "version_minor": 0
      },
      "text/plain": [
       "Button(description='Refresh data', icon='download', style=ButtonStyle(), tooltip=\"'Click to download current P…"
      ]
     },
     "metadata": {},
     "output_type": "display_data"
    },
    {
     "data": {
      "application/vnd.jupyter.widget-view+json": {
       "model_id": "af91bf76517f4f30adafcbba7d051acb",
       "version_major": 2,
       "version_minor": 0
      },
      "text/plain": [
       "SelectMultiple(description='Sex', index=(0,), options=('males', 'females', 'total'), rows=3, value=('males',))"
      ]
     },
     "metadata": {},
     "output_type": "display_data"
    },
    {
     "data": {
      "application/vnd.jupyter.widget-view+json": {
       "model_id": "ec2489b9afed4ffb8e6c7e455ec192b9",
       "version_major": 2,
       "version_minor": 0
      },
      "text/plain": [
       "Output()"
      ]
     },
     "metadata": {},
     "output_type": "display_data"
    }
   ],
   "source": [
    "agecols=wdg.SelectMultiple(\n",
    "    options=['males', 'females', 'total'], # options available\n",
    "    value=['males'], # initial value\n",
    "    rows=3, # rows of the selection box\n",
    "    description='Sex',\n",
    "    disabled=False\n",
    ")\n",
    "\n",
    "def refresh_graph():\n",
    "    current=agecols.value[0]\n",
    "    if current==agecols.options[0]:\n",
    "        other=agecols.options[1]\n",
    "    else:\n",
    "        other=agecols.options[0]\n",
    "    agecols.value=(other,) # forces the redraw\n",
    "    agecols.value=(current,) # now we can change it back\n",
    "\n",
    "\n",
    "def age_graph(graphcolumns):\n",
    "    # our callback function.\n",
    "    ncols=len(graphcolumns)\n",
    "    if ncols>0:\n",
    "        age_df.plot(kind='bar', y=list(graphcolumns)) # graphcolumns is a tuple - we need a list\n",
    "    else:\n",
    "        # if the user has not selected any column, print a message instead\n",
    "        print(\"Click to select data for graph\")\n",
    "        print(\"(CTRL-Click to select more than one category)\")\n",
    "    \n",
    "# keep calling age_graph(graphcolumns=value_of_agecols); capture output in variable output    \n",
    "output=wdg.interactive_output(age_graph, {'graphcolumns': agecols})\n",
    "\n",
    "apibutton.on_click(api_button_callback) \n",
    "display(apibutton)\n",
    "\n",
    "display(agecols, output)"
   ]
  },
  {
   "cell_type": "markdown",
   "metadata": {},
   "source": [
    "## Deploying the dashboard\n",
    "\n",
    "Once your code is ready and you are satisfied with the appearance of the graphs, replace all the text boxes above with the explanations you would like a dashboard user to see. The next step is deploying the dashboard online - there are several [options](https://voila.readthedocs.io/en/stable/deploy.html) for this, we suggest deploying as a [Binder](https://mybinder.org/). This is basically the same technique that has been used to package this tutorial and to deploy this template dashboard. The instructions may seem a bit involved, but the actual steps are surprisingly easy - we will be going through them together during a live session. You will need an account on [GitHub](https://github.com/) for this - if you don't have one already, now it's the time to create it. "
   ]
  },
  {
   "cell_type": "markdown",
   "metadata": {},
   "source": [
    "**Author and Copyright Notice** Remember if you deploy this dashboard as a Binder it will be publicly accessible. Take credit for your work! Also acknowledge the data source: *Based on UK Government [data](https://coronavirus.data.gov.uk/) published by [Public Health England](https://www.gov.uk/government/organisations/public-health-england).*"
   ]
  }
 ],
 "metadata": {
  "kernelspec": {
   "display_name": "Python 3",
   "language": "python",
   "name": "python3"
  },
  "language_info": {
   "codemirror_mode": {
    "name": "ipython",
    "version": 3
   },
   "file_extension": ".py",
   "mimetype": "text/x-python",
   "name": "python",
   "nbconvert_exporter": "python",
   "pygments_lexer": "ipython3",
   "version": "3.8.5"
  }
 },
 "nbformat": 4,
 "nbformat_minor": 4
}
